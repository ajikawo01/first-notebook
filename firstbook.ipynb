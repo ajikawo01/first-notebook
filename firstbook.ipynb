{
 "cells": [
  {
   "cell_type": "code",
   "execution_count": 3,
   "id": "75eba828",
   "metadata": {},
   "outputs": [
    {
     "name": "stdout",
     "output_type": "stream",
     "text": [
      "below average\n"
     ]
    }
   ],
   "source": [
    "student_score= 10\n",
    "if student_score >=90:\n",
    "    print('Excellent')\n",
    "elif student_score >=70 and student_score <=89:\n",
    "    print('Good')\n",
    "elif student_score >=50 and student_score <=69:\n",
    "    print('Average')\n",
    "elif student_score <50:\n",
    "    print('below average')\n",
    "    "
   ]
  },
  {
   "cell_type": "code",
   "execution_count": 7,
   "id": "4e659585",
   "metadata": {},
   "outputs": [
    {
     "name": "stdout",
     "output_type": "stream",
     "text": [
      "80000.0\n"
     ]
    }
   ],
   "source": [
    "price = 100000\n",
    " \n",
    "if price >= 100000:\n",
    "    discount = price*0.2\n",
    "    print(price-discount)\n",
    "elif price >=50000 and price <=99000:\n",
    "    discount = price*0.1\n",
    "    print(price-discount)\n",
    "elif price <50000:\n",
    "     discount = price*0.05\n",
    "     print(price-discount)   "
   ]
  },
  {
   "cell_type": "code",
   "execution_count": 18,
   "id": "18e2e8a9",
   "metadata": {},
   "outputs": [
    {
     "name": "stdout",
     "output_type": "stream",
     "text": [
      "josh\n"
     ]
    }
   ],
   "source": [
    "student_list = ['ajikawo','lillian','emmanuel','josh','prisca','lawrence']\n",
    "print(student_list[3])\n",
    "student_list.append(4)\n",
    "student_list.extend([5])"
   ]
  },
  {
   "cell_type": "code",
   "execution_count": 19,
   "id": "a4881811",
   "metadata": {},
   "outputs": [
    {
     "name": "stdout",
     "output_type": "stream",
     "text": [
      "['ajikawo', 'lillian', 'emmanuel', 'josh', 'prisca', 'lawrence', 4, 5]\n"
     ]
    }
   ],
   "source": [
    "print(student_list)"
   ]
  },
  {
   "cell_type": "code",
   "execution_count": 21,
   "id": "4eb8c452",
   "metadata": {},
   "outputs": [
    {
     "name": "stdout",
     "output_type": "stream",
     "text": [
      "89\n"
     ]
    }
   ],
   "source": [
    "my_dict = {\n",
    "    'Age':[25,45,67,89],\n",
    "    'Sex':['M','F','M','F'],\n",
    "}\n",
    "print(my_dict['Age'][3])"
   ]
  },
  {
   "cell_type": "code",
   "execution_count": null,
   "id": "e9ce1cf8",
   "metadata": {},
   "outputs": [],
   "source": []
  }
 ],
 "metadata": {
  "kernelspec": {
   "display_name": "Python 3 (ipykernel)",
   "language": "python",
   "name": "python3"
  },
  "language_info": {
   "codemirror_mode": {
    "name": "ipython",
    "version": 3
   },
   "file_extension": ".py",
   "mimetype": "text/x-python",
   "name": "python",
   "nbconvert_exporter": "python",
   "pygments_lexer": "ipython3",
   "version": "3.11.4"
  }
 },
 "nbformat": 4,
 "nbformat_minor": 5
}
