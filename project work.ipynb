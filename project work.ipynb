{
 "cells": [
  {
   "cell_type": "code",
   "execution_count": 1,
   "id": "e8b3f818",
   "metadata": {},
   "outputs": [],
   "source": [
    "import pandas as pd"
   ]
  },
  {
   "cell_type": "code",
   "execution_count": 3,
   "id": "54c72484",
   "metadata": {},
   "outputs": [
    {
     "data": {
      "text/html": [
       "<div>\n",
       "<style scoped>\n",
       "    .dataframe tbody tr th:only-of-type {\n",
       "        vertical-align: middle;\n",
       "    }\n",
       "\n",
       "    .dataframe tbody tr th {\n",
       "        vertical-align: top;\n",
       "    }\n",
       "\n",
       "    .dataframe thead th {\n",
       "        text-align: right;\n",
       "    }\n",
       "</style>\n",
       "<table border=\"1\" class=\"dataframe\">\n",
       "  <thead>\n",
       "    <tr style=\"text-align: right;\">\n",
       "      <th></th>\n",
       "      <th>TransactionID</th>\n",
       "      <th>TransactionStartDateTime</th>\n",
       "      <th>TransactionEndDateTime</th>\n",
       "      <th>CardholderID</th>\n",
       "      <th>LocationID</th>\n",
       "      <th>TransactionTypeID</th>\n",
       "      <th>TransactionAmount</th>\n",
       "    </tr>\n",
       "  </thead>\n",
       "  <tbody>\n",
       "    <tr>\n",
       "      <th>0</th>\n",
       "      <td>FC-2022-1000000001</td>\n",
       "      <td>01/01/2022 05:00</td>\n",
       "      <td>01/01/2022 05:01</td>\n",
       "      <td>FC-001-1015</td>\n",
       "      <td>FC-001</td>\n",
       "      <td>3</td>\n",
       "      <td>0</td>\n",
       "    </tr>\n",
       "    <tr>\n",
       "      <th>1</th>\n",
       "      <td>FC-2022-1000000002</td>\n",
       "      <td>01/01/2022 05:14</td>\n",
       "      <td>01/01/2022 05:16</td>\n",
       "      <td>FC-001-1001</td>\n",
       "      <td>FC-001</td>\n",
       "      <td>3</td>\n",
       "      <td>0</td>\n",
       "    </tr>\n",
       "    <tr>\n",
       "      <th>2</th>\n",
       "      <td>FC-2022-1000000003</td>\n",
       "      <td>01/01/2022 05:14</td>\n",
       "      <td>01/01/2022 05:17</td>\n",
       "      <td>FC-002-1045</td>\n",
       "      <td>FC-002</td>\n",
       "      <td>2</td>\n",
       "      <td>10000</td>\n",
       "    </tr>\n",
       "    <tr>\n",
       "      <th>3</th>\n",
       "      <td>FC-2022-1000000004</td>\n",
       "      <td>01/01/2022 06:26</td>\n",
       "      <td>01/01/2022 06:31</td>\n",
       "      <td>FC-004-1013</td>\n",
       "      <td>FC-004</td>\n",
       "      <td>1</td>\n",
       "      <td>50000</td>\n",
       "    </tr>\n",
       "    <tr>\n",
       "      <th>4</th>\n",
       "      <td>FC-2022-1000000005</td>\n",
       "      <td>01/01/2022 06:27</td>\n",
       "      <td>01/01/2022 06:30</td>\n",
       "      <td>FC-003-1023</td>\n",
       "      <td>FC-003</td>\n",
       "      <td>2</td>\n",
       "      <td>10000</td>\n",
       "    </tr>\n",
       "    <tr>\n",
       "      <th>...</th>\n",
       "      <td>...</td>\n",
       "      <td>...</td>\n",
       "      <td>...</td>\n",
       "      <td>...</td>\n",
       "      <td>...</td>\n",
       "      <td>...</td>\n",
       "      <td>...</td>\n",
       "    </tr>\n",
       "    <tr>\n",
       "      <th>159647</th>\n",
       "      <td>FC-2022-1000159648</td>\n",
       "      <td>31/12/2022 18:55</td>\n",
       "      <td>31/12/2022 18:59</td>\n",
       "      <td>FC-004-1003</td>\n",
       "      <td>FC-004</td>\n",
       "      <td>2</td>\n",
       "      <td>20000</td>\n",
       "    </tr>\n",
       "    <tr>\n",
       "      <th>159648</th>\n",
       "      <td>FC-2022-1000159649</td>\n",
       "      <td>31/12/2022 18:55</td>\n",
       "      <td>31/12/2022 18:59</td>\n",
       "      <td>FC-004-1003</td>\n",
       "      <td>FC-004</td>\n",
       "      <td>1</td>\n",
       "      <td>50000</td>\n",
       "    </tr>\n",
       "    <tr>\n",
       "      <th>159649</th>\n",
       "      <td>FC-2022-1000159650</td>\n",
       "      <td>31/12/2022 18:58</td>\n",
       "      <td>31/12/2022 19:01</td>\n",
       "      <td>FC-001-1004</td>\n",
       "      <td>FC-001</td>\n",
       "      <td>1</td>\n",
       "      <td>6000</td>\n",
       "    </tr>\n",
       "    <tr>\n",
       "      <th>159650</th>\n",
       "      <td>FC-2022-1000159651</td>\n",
       "      <td>31/12/2022 18:58</td>\n",
       "      <td>31/12/2022 19:02</td>\n",
       "      <td>FC-005-1039</td>\n",
       "      <td>FC-005</td>\n",
       "      <td>1</td>\n",
       "      <td>10000</td>\n",
       "    </tr>\n",
       "    <tr>\n",
       "      <th>159651</th>\n",
       "      <td>FC-2022-1000159652</td>\n",
       "      <td>31/12/2022 18:59</td>\n",
       "      <td>31/12/2022 19:03</td>\n",
       "      <td>FC-002-1040</td>\n",
       "      <td>FC-002</td>\n",
       "      <td>4</td>\n",
       "      <td>10000</td>\n",
       "    </tr>\n",
       "  </tbody>\n",
       "</table>\n",
       "<p>159652 rows × 7 columns</p>\n",
       "</div>"
      ],
      "text/plain": [
       "             TransactionID TransactionStartDateTime TransactionEndDateTime  \\\n",
       "0       FC-2022-1000000001         01/01/2022 05:00       01/01/2022 05:01   \n",
       "1       FC-2022-1000000002         01/01/2022 05:14       01/01/2022 05:16   \n",
       "2       FC-2022-1000000003         01/01/2022 05:14       01/01/2022 05:17   \n",
       "3       FC-2022-1000000004         01/01/2022 06:26       01/01/2022 06:31   \n",
       "4       FC-2022-1000000005         01/01/2022 06:27       01/01/2022 06:30   \n",
       "...                    ...                      ...                    ...   \n",
       "159647  FC-2022-1000159648         31/12/2022 18:55       31/12/2022 18:59   \n",
       "159648  FC-2022-1000159649         31/12/2022 18:55       31/12/2022 18:59   \n",
       "159649  FC-2022-1000159650         31/12/2022 18:58       31/12/2022 19:01   \n",
       "159650  FC-2022-1000159651         31/12/2022 18:58       31/12/2022 19:02   \n",
       "159651  FC-2022-1000159652         31/12/2022 18:59       31/12/2022 19:03   \n",
       "\n",
       "       CardholderID LocationID  TransactionTypeID  TransactionAmount  \n",
       "0       FC-001-1015     FC-001                  3                  0  \n",
       "1       FC-001-1001     FC-001                  3                  0  \n",
       "2       FC-002-1045     FC-002                  2              10000  \n",
       "3       FC-004-1013     FC-004                  1              50000  \n",
       "4       FC-003-1023     FC-003                  2              10000  \n",
       "...             ...        ...                ...                ...  \n",
       "159647  FC-004-1003     FC-004                  2              20000  \n",
       "159648  FC-004-1003     FC-004                  1              50000  \n",
       "159649  FC-001-1004     FC-001                  1               6000  \n",
       "159650  FC-005-1039     FC-005                  1              10000  \n",
       "159651  FC-002-1040     FC-002                  4              10000  \n",
       "\n",
       "[159652 rows x 7 columns]"
      ]
     },
     "execution_count": 3,
     "metadata": {},
     "output_type": "execute_result"
    }
   ],
   "source": [
    "Fct=pd.read_csv('Fct_transactions.csv')\n",
    "Fct"
   ]
  },
  {
   "cell_type": "code",
   "execution_count": 7,
   "id": "07862f29",
   "metadata": {},
   "outputs": [
    {
     "name": "stdout",
     "output_type": "stream",
     "text": [
      "<class 'pandas.core.frame.DataFrame'>\n",
      "RangeIndex: 159652 entries, 0 to 159651\n",
      "Data columns (total 7 columns):\n",
      " #   Column                    Non-Null Count   Dtype         \n",
      "---  ------                    --------------   -----         \n",
      " 0   TransactionID             159652 non-null  object        \n",
      " 1   TransactionStartDateTime  159652 non-null  datetime64[ns]\n",
      " 2   TransactionEndDateTime    159652 non-null  datetime64[ns]\n",
      " 3   CardholderID              159652 non-null  object        \n",
      " 4   LocationID                159652 non-null  object        \n",
      " 5   TransactionTypeID         159652 non-null  int64         \n",
      " 6   TransactionAmount         159652 non-null  int64         \n",
      "dtypes: datetime64[ns](2), int64(2), object(3)\n",
      "memory usage: 8.5+ MB\n"
     ]
    }
   ],
   "source": [
    "Fct.info()"
   ]
  },
  {
   "cell_type": "code",
   "execution_count": 6,
   "id": "6e06a22d",
   "metadata": {},
   "outputs": [],
   "source": [
    "Fct['TransactionStartDateTime']=pd.to_datetime(Fct['TransactionStartDateTime'])\n",
    "Fct['TransactionEndDateTime']=pd.to_datetime(Fct['TransactionEndDateTime'])"
   ]
  },
  {
   "cell_type": "code",
   "execution_count": 8,
   "id": "3ed60998",
   "metadata": {},
   "outputs": [],
   "source": [
    "Fct_transactions2=Fct.dropna()"
   ]
  },
  {
   "cell_type": "code",
   "execution_count": 9,
   "id": "05a33c74",
   "metadata": {},
   "outputs": [],
   "source": [
    "Fct.to_csv('Fct_transactions2.csv')"
   ]
  },
  {
   "cell_type": "code",
   "execution_count": 12,
   "id": "cd199b40",
   "metadata": {},
   "outputs": [],
   "source": [
    "Rivers=pd.read_csv('Rivers_transactions.csv')"
   ]
  },
  {
   "cell_type": "code",
   "execution_count": 18,
   "id": "1ecdb540",
   "metadata": {},
   "outputs": [
    {
     "name": "stdout",
     "output_type": "stream",
     "text": [
      "<class 'pandas.core.frame.DataFrame'>\n",
      "RangeIndex: 420098 entries, 0 to 420097\n",
      "Data columns (total 7 columns):\n",
      " #   Column                    Non-Null Count   Dtype         \n",
      "---  ------                    --------------   -----         \n",
      " 0   TransactionID             420098 non-null  object        \n",
      " 1   TransactionStartDateTime  420098 non-null  datetime64[ns]\n",
      " 2   TransactionEndDateTime    420098 non-null  datetime64[ns]\n",
      " 3   CardholderID              420098 non-null  object        \n",
      " 4   LocationID                420098 non-null  object        \n",
      " 5   TransactionTypeID         420098 non-null  int64         \n",
      " 6   TransactionAmount         420098 non-null  int64         \n",
      "dtypes: datetime64[ns](2), int64(2), object(3)\n",
      "memory usage: 22.4+ MB\n"
     ]
    }
   ],
   "source": [
    "Rivers.info()"
   ]
  },
  {
   "cell_type": "code",
   "execution_count": 15,
   "id": "03164967",
   "metadata": {},
   "outputs": [],
   "source": [
    "Rivers['TransactionStartDateTime']=pd.to_datetime(Rivers['TransactionStartDateTime'])\n",
    "Rivers['TransactionEndDateTime']=pd.to_datetime(Rivers['TransactionEndDateTime'])"
   ]
  },
  {
   "cell_type": "code",
   "execution_count": 16,
   "id": "553d8243",
   "metadata": {},
   "outputs": [],
   "source": [
    "Rivers_transactions2=Rivers.dropna()"
   ]
  },
  {
   "cell_type": "code",
   "execution_count": 17,
   "id": "e7f8c683",
   "metadata": {},
   "outputs": [],
   "source": [
    "Rivers.to_csv('Rivers_transactions2.csv')"
   ]
  },
  {
   "cell_type": "code",
   "execution_count": 19,
   "id": "539d105b",
   "metadata": {},
   "outputs": [],
   "source": [
    "Enugu=pd.read_csv('Enugu_transactions.csv')"
   ]
  },
  {
   "cell_type": "code",
   "execution_count": 21,
   "id": "a00bd293",
   "metadata": {},
   "outputs": [],
   "source": [
    "Enugu['TransactionStartDateTime']=pd.to_datetime(Enugu['TransactionStartDateTime'])\n",
    "Enugu['TransactionEndDateTime']=pd.to_datetime(Enugu['TransactionEndDateTime'])"
   ]
  },
  {
   "cell_type": "code",
   "execution_count": 22,
   "id": "1a867338",
   "metadata": {},
   "outputs": [],
   "source": [
    "Enugu_transactions2=Enugu.dropna()"
   ]
  },
  {
   "cell_type": "code",
   "execution_count": 26,
   "id": "39de8a4c",
   "metadata": {},
   "outputs": [],
   "source": [
    "Enugu.to_csv('Enugu_transactions2.csv')"
   ]
  },
  {
   "cell_type": "code",
   "execution_count": 24,
   "id": "a9dcdf6f",
   "metadata": {},
   "outputs": [
    {
     "name": "stdout",
     "output_type": "stream",
     "text": [
      "<class 'pandas.core.frame.DataFrame'>\n",
      "RangeIndex: 350251 entries, 0 to 350250\n",
      "Data columns (total 7 columns):\n",
      " #   Column                    Non-Null Count   Dtype         \n",
      "---  ------                    --------------   -----         \n",
      " 0   TransactionID             350251 non-null  object        \n",
      " 1   TransactionStartDateTime  350251 non-null  datetime64[ns]\n",
      " 2   TransactionEndDateTime    350251 non-null  datetime64[ns]\n",
      " 3   CardholderID              350251 non-null  object        \n",
      " 4   LocationID                350251 non-null  object        \n",
      " 5   TransactionTypeID         350251 non-null  int64         \n",
      " 6   TransactionAmount         350251 non-null  int64         \n",
      "dtypes: datetime64[ns](2), int64(2), object(3)\n",
      "memory usage: 18.7+ MB\n"
     ]
    }
   ],
   "source": [
    "Enugu.info()"
   ]
  },
  {
   "cell_type": "code",
   "execution_count": 27,
   "id": "5e28e842",
   "metadata": {},
   "outputs": [],
   "source": [
    "Kano=pd.read_csv('Kano_transactions.csv')"
   ]
  },
  {
   "cell_type": "code",
   "execution_count": 29,
   "id": "254b3b0b",
   "metadata": {},
   "outputs": [],
   "source": [
    "Kano['TransactionStartDateTime']=pd.to_datetime(Kano['TransactionStartDateTime'])\n",
    "Kano['TransactionEndDateTime']=pd.to_datetime(Kano['TransactionEndDateTime'])"
   ]
  },
  {
   "cell_type": "code",
   "execution_count": 30,
   "id": "d8d2483b",
   "metadata": {},
   "outputs": [],
   "source": [
    "Kano_transactions2=Kano.dropna()"
   ]
  },
  {
   "cell_type": "code",
   "execution_count": 31,
   "id": "623a7c32",
   "metadata": {},
   "outputs": [],
   "source": [
    "Kano.to_csv('Kano_transactions2.csv')"
   ]
  },
  {
   "cell_type": "code",
   "execution_count": 32,
   "id": "70702c40",
   "metadata": {},
   "outputs": [
    {
     "name": "stdout",
     "output_type": "stream",
     "text": [
      "<class 'pandas.core.frame.DataFrame'>\n",
      "RangeIndex: 458764 entries, 0 to 458763\n",
      "Data columns (total 7 columns):\n",
      " #   Column                    Non-Null Count   Dtype         \n",
      "---  ------                    --------------   -----         \n",
      " 0   TransactionID             458764 non-null  object        \n",
      " 1   TransactionStartDateTime  458764 non-null  datetime64[ns]\n",
      " 2   TransactionEndDateTime    458764 non-null  datetime64[ns]\n",
      " 3   CardholderID              458764 non-null  object        \n",
      " 4   LocationID                458764 non-null  object        \n",
      " 5   TransactionTypeID         458764 non-null  int64         \n",
      " 6   TransactionAmount         458764 non-null  int64         \n",
      "dtypes: datetime64[ns](2), int64(2), object(3)\n",
      "memory usage: 24.5+ MB\n"
     ]
    }
   ],
   "source": [
    "Kano.info()"
   ]
  },
  {
   "cell_type": "code",
   "execution_count": 33,
   "id": "923f7c35",
   "metadata": {},
   "outputs": [],
   "source": [
    "Lagos=pd.read_csv('Lagos_transactions.csv')"
   ]
  },
  {
   "cell_type": "code",
   "execution_count": 34,
   "id": "327c11a1",
   "metadata": {},
   "outputs": [],
   "source": [
    "Lagos['TransactionStartDateTime']=pd.to_datetime(Lagos['TransactionStartDateTime'])\n",
    "Lagos['TransactionEndDateTime']=pd.to_datetime(Lagos['TransactionEndDateTime'])"
   ]
  },
  {
   "cell_type": "code",
   "execution_count": 35,
   "id": "230b2166",
   "metadata": {},
   "outputs": [],
   "source": [
    "Lagos_transactions2=Lagos.dropna()"
   ]
  },
  {
   "cell_type": "code",
   "execution_count": 36,
   "id": "bf077671",
   "metadata": {},
   "outputs": [],
   "source": [
    "Lagos.to_csv('Lagos_transactions2.csv')"
   ]
  },
  {
   "cell_type": "code",
   "execution_count": 37,
   "id": "cfa18897",
   "metadata": {},
   "outputs": [
    {
     "name": "stdout",
     "output_type": "stream",
     "text": [
      "<class 'pandas.core.frame.DataFrame'>\n",
      "RangeIndex: 755073 entries, 0 to 755072\n",
      "Data columns (total 11 columns):\n",
      " #   Column                    Non-Null Count   Dtype         \n",
      "---  ------                    --------------   -----         \n",
      " 0   TransactionID             755073 non-null  object        \n",
      " 1   TransactionStartDateTime  755073 non-null  datetime64[ns]\n",
      " 2   TransactionEndDateTime    755073 non-null  datetime64[ns]\n",
      " 3   CardholderID              755073 non-null  object        \n",
      " 4   LocationID                755073 non-null  object        \n",
      " 5   TransactionTypeID         755073 non-null  int64         \n",
      " 6   TransactionAmount         755073 non-null  int64         \n",
      " 7   Unnamed: 7                0 non-null       float64       \n",
      " 8   Unnamed: 8                0 non-null       float64       \n",
      " 9   Unnamed: 9                0 non-null       float64       \n",
      " 10  Unnamed: 10               0 non-null       float64       \n",
      "dtypes: datetime64[ns](2), float64(4), int64(2), object(3)\n",
      "memory usage: 63.4+ MB\n"
     ]
    }
   ],
   "source": [
    "Lagos.info()"
   ]
  },
  {
   "cell_type": "code",
   "execution_count": null,
   "id": "ad188cce",
   "metadata": {},
   "outputs": [],
   "source": []
  }
 ],
 "metadata": {
  "kernelspec": {
   "display_name": "Python 3 (ipykernel)",
   "language": "python",
   "name": "python3"
  },
  "language_info": {
   "codemirror_mode": {
    "name": "ipython",
    "version": 3
   },
   "file_extension": ".py",
   "mimetype": "text/x-python",
   "name": "python",
   "nbconvert_exporter": "python",
   "pygments_lexer": "ipython3",
   "version": "3.11.4"
  }
 },
 "nbformat": 4,
 "nbformat_minor": 5
}
